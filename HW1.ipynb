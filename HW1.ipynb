{
 "cells": [
  {
   "cell_type": "code",
   "execution_count": 58,
   "metadata": {
    "collapsed": false
   },
   "outputs": [
    {
     "name": "stdout",
     "output_type": "stream",
     "text": [
      "                   Algorithm  p       2^6      2^10      2^20 thingy\n",
      "0               Serial Times  2  0.000026  0.000006  0.002062   True\n",
      "1       Parallel Naive Times  2  0.000109  0.000045  0.022525   True\n",
      "2      Parallel Guided Times  2  0.000026  0.000025  0.002475   True\n",
      "3    Parallel Naive Speed-up  2  0.237991  0.133690  0.091524   True\n",
      "4  Parallel Naive Efficiency  2  0.118996  0.066845  0.045762   True\n",
      "                   Algorithm  p       2^6      2^10    thingy\n",
      "0               Serial Times  2  0.000028  0.002556       NaN\n",
      "1       Parallel Naive Times  2  0.000048  0.003138       NaN\n",
      "2      Parallel Guided Times  2  0.000040  0.002384       NaN\n",
      "3    Parallel Naive Speed-up  2  0.584158  0.814542  0.003138\n",
      "4  Parallel Naive Efficiency  2  0.292079  0.407271  0.003138\n",
      "                      Algorithm  p           2^6          2^10  thingy\n",
      "0                  Serial Times  2  5.607605e-04  1.776442e+01     NaN\n",
      "1                   DGEMM Times  2  2.849102e-04  3.036566e-01     NaN\n",
      "2  Parallel Naive Dynamic Times  2  5.304813e-04  1.773159e+01     NaN\n",
      "3  Parallel Naive Chunked Times  2  4.241467e-04  9.155376e+00     NaN\n",
      "4         Parallel Block1 Times  2  7.152557e-07  7.152557e-07     NaN\n"
     ]
    }
   ],
   "source": [
    "import pandas as pd\n",
    "import matplotlib.pyplot as plt\n",
    "plt.style.use('ggplot')\n",
    "\n",
    "file_dir='/Users/charlottejolloyd/Downloads/'\n",
    "img_dir='/Users/charlottejolloyd/Dropbox/Courses/CS 205/HW1/plots/'\n",
    "\n",
    "sums = pd.read_csv(file_dir + 'summation.csv')\n",
    "matvec = pd.read_csv(file_dir + 'matvec.csv')\n",
    "matmat = pd.read_csv(file_dir + 'matmat.csv')\n",
    "\n",
    "print(sums.head())\n",
    "print(matvec.head())\n",
    "print(matmat.head())"
   ]
  },
  {
   "cell_type": "code",
   "execution_count": 59,
   "metadata": {
    "collapsed": false
   },
   "outputs": [],
   "source": [
    "# 3. Summation Plots\n",
    "\n",
    "x = ['2^6','2^10','2^20']\n",
    "xp = [1,2,3]\n",
    "\n",
    "for p in list(matvec['p'].unique()):\n",
    "    \n",
    "    plt.clf()\n",
    "    fig = plt.gcf()\n",
    "    df = sums[sums['p']==p]\n",
    "\n",
    "    pns = df[df['Algorithm']=='Parallel Naive Speed-up'][x].squeeze().tolist()\n",
    "    pgs = df[df['Algorithm']=='Parallel Guided Speed-up'][x].squeeze().tolist()\n",
    "    pne = df[df['Algorithm']=='Parallel Naive Efficiency'][x].squeeze().tolist()\n",
    "    pge = df[df['Algorithm']=='Parallel Guided Efficiency'][x].squeeze().tolist()\n",
    "\n",
    "    plt.plot(xp, pns, 'r', label='Parallel Naive Speed-up')\n",
    "    plt.plot(xp, pgs, 'b', label='Parallel Guided Speed-up')\n",
    "    plt.plot(xp, pne, 'r--', label='Parallel Naive Efficiency')\n",
    "    plt.plot(xp, pge, 'b--', label='Parallel Guided Efficiency')\n",
    "\n",
    "    plt.xlabel('data size')\n",
    "    plt.xticks(xp, x)\n",
    "    plt.ylabel('speed-up / efficiency')\n",
    "    plt.ylim(ymax=1.2)\n",
    "    plt.title('Summation Algorithm p=%s' % str(p))\n",
    "    #plt.legend(loc=2)\n",
    "    #plt.show()\n",
    "    fig.savefig(img_dir+'summation_p%s.png' % str(p))"
   ]
  },
  {
   "cell_type": "code",
   "execution_count": 60,
   "metadata": {
    "collapsed": false
   },
   "outputs": [],
   "source": [
    "# 3. Matrix-Vector Multiplication Plots\n",
    "\n",
    "x = ['2^6','2^10']\n",
    "xp = [1,2]\n",
    "\n",
    "for p in list(matvec['p'].unique()):\n",
    "    \n",
    "    plt.clf()\n",
    "    fig = plt.gcf()\n",
    "    df = matvec[matvec['p']==p]\n",
    "\n",
    "    pns = df[df['Algorithm']=='Parallel Naive Speed-up'][x].squeeze().tolist()\n",
    "    pgs = df[df['Algorithm']=='Parallel Guided Speed-up'][x].squeeze().tolist()\n",
    "    pne = df[df['Algorithm']=='Parallel Naive Efficiency'][x].squeeze().tolist()\n",
    "    pge = df[df['Algorithm']=='Parallel Guided Efficiency'][x].squeeze().tolist()\n",
    "\n",
    "    plt.plot(xp, pns, 'r', label='Parallel Naive Speed-up')\n",
    "    plt.plot(xp, pgs, 'b', label='Parallel Guided Speed-up')\n",
    "    plt.plot(xp, pne, 'r--', label='Parallel Naive Efficiency')\n",
    "    plt.plot(xp, pge, 'b--', label='Parallel Guided Efficiency')\n",
    "\n",
    "    plt.xlabel('data size')\n",
    "    plt.xticks(xp, x)\n",
    "    plt.ylabel('speed-up / efficiency')\n",
    "    plt.ylim(ymax=1.2)\n",
    "    plt.title('Matrix-Vector Multiplication Algorithm p=%s' % str(p))\n",
    "    #plt.legend(loc=2)\n",
    "    #plt.show()\n",
    "    \n",
    "    fig.savefig(img_dir+'matvec_p%s.png' % str(p))"
   ]
  },
  {
   "cell_type": "code",
   "execution_count": 62,
   "metadata": {
    "collapsed": false
   },
   "outputs": [],
   "source": [
    "# 4. Matrix-Matrix Multiplication Plots\n",
    "\n",
    "x = ['2^6','2^10']\n",
    "xp = [1,2]\n",
    "\n",
    "for p in list(matmat['p'].unique()):\n",
    "    df = matmat[matmat['p']==p]\n",
    "    \n",
    "    # Serial & Naive Parallel Graphs\n",
    "    plt.clf()\n",
    "    fig = plt.gcf()\n",
    "    st = df[df['Algorithm']=='Serial Times'][x].squeeze().tolist()\n",
    "    dt = df[df['Algorithm']=='DGEMM Times'][x].squeeze().tolist()\n",
    "    pnd = df[df['Algorithm']=='Parallel Naive Dynamic Times'][x].squeeze().tolist()\n",
    "    pnc = df[df['Algorithm']=='Parallel Naive Chunked Times'][x].squeeze().tolist()\n",
    "    plt.plot(xp, st, 'r', label='3-Loop Serial Algorithm')\n",
    "    plt.plot(xp, dt, 'g', label='DGEMM Serial Algorithm')\n",
    "    plt.plot(xp, pnd, 'b', label='Parallel Naive Dynamic Algorithm')\n",
    "    plt.plot(xp, pnc, 'm', label='Parallel Naive Chunked Algorithm')\n",
    "    plt.xlabel('data size')\n",
    "    plt.xticks(xp, x)\n",
    "    plt.ylabel('time')\n",
    "    #plt.ylim(ymax=20)\n",
    "    plt.title('Matrix-Matrix Multiplication Serial Times p=%s' % str(p))\n",
    "    #plt.legend(loc=2)\n",
    "    #plt.show()\n",
    "    fig.savefig(img_dir+'matmat_naive_p%s.png' % str(p))\n",
    "    \n",
    "    # Blocked Parallel Graphs\n",
    "    plt.clf()\n",
    "    fig = plt.gcf()\n",
    "    pb1 = df[df['Algorithm']=='Parallel Block1 Times'][x].squeeze().tolist()\n",
    "    pb2 = df[df['Algorithm']=='Parallel Block2 Times'][x].squeeze().tolist()\n",
    "    plt.plot(xp, pb1, 'k', label='Parallel Blocked Algorithm 1')\n",
    "    plt.plot(xp, pb2, 'k--', label='Parallel Blocked Algorithm 2') \n",
    "    plt.xlabel('data size')\n",
    "    plt.xticks(xp, x)\n",
    "    plt.ylabel('time')\n",
    "    #plt.ylim(ymax=1.2)\n",
    "    plt.title('Matrix-Matrix Multiplication Naive Parallel Times p=%s' % str(p))\n",
    "    #plt.legend(loc=2)\n",
    "    #plt.show()\n",
    "    fig.savefig(img_dir+'matmat_block_p%s.png' % str(p))\n",
    "    "
   ]
  },
  {
   "cell_type": "code",
   "execution_count": null,
   "metadata": {
    "collapsed": true
   },
   "outputs": [],
   "source": []
  }
 ],
 "metadata": {
  "anaconda-cloud": {},
  "kernelspec": {
   "display_name": "Python [conda root]",
   "language": "python",
   "name": "conda-root-py"
  },
  "language_info": {
   "codemirror_mode": {
    "name": "ipython",
    "version": 3
   },
   "file_extension": ".py",
   "mimetype": "text/x-python",
   "name": "python",
   "nbconvert_exporter": "python",
   "pygments_lexer": "ipython3",
   "version": "3.5.2"
  }
 },
 "nbformat": 4,
 "nbformat_minor": 2
}
